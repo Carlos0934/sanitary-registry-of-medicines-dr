{
 "cells": [
  {
   "cell_type": "code",
   "execution_count": 2,
   "metadata": {},
   "outputs": [],
   "source": [
    "import pandas as pd \n",
    "\n",
    "# Read raw data from excel file\n",
    "raw_data = pd.read_excel('../data/raw/sanitary_registry_medicines.xlsx')\n",
    "\n",
    "# Rename columns and drop columns that are not needed\n",
    "columns_to_drop = ['Solicitud', 'Nombre Generico', 'Principio Activo', 'Distritbuidora', 'Representante', 'Empaque', 'Especificacion_envase_primario']\n",
    "columns_to_rename = {'Registro Sanitario': 'sanitary_registry', 'NombreProducto': 'product_name', 'Fabricante' : 'manufacturer', 'Forma Farmaceutica': 'pharmaceutical_form', 'Fecha Expiracion': 'expiration_date', 'Estado': 'status', 'Cantidad': 'quantity', 'Titular Registro': 'holder', 'Fecha Registro': 'register_date', 'Fecha Vencimiento': 'expiration_date', 'Estatus' : 'status', 'Tipo de producto': 'product_type' }\n",
    "\n",
    "\n",
    "raw_data.drop( columns_to_drop, axis=1, inplace=True)\n",
    "raw_data.rename(columns=columns_to_rename, inplace=True)\n",
    "\n",
    "# Drop rows with null values\n",
    "raw_data.dropna(inplace=True)\n",
    "\n",
    "\n",
    "raw_data = raw_data[raw_data['manufacturer'] != 'N/D']\n",
    "raw_data = raw_data[raw_data['product_type'] == 'MEDICAMENTOS']\n",
    "raw_data = raw_data[raw_data['product_name'] != 'N/D']\n",
    "raw_data = raw_data[raw_data['expiration_date'] != 'N/D']\n",
    "raw_data = raw_data[raw_data['status'] != 'N/D']\n",
    "raw_data = raw_data[raw_data['status'] != 'NO VIGENTE']\n",
    "raw_data = raw_data[raw_data['pharmaceutical_form'] != 'N/D']\n",
    "\n"
   ]
  },
  {
   "cell_type": "code",
   "execution_count": 3,
   "metadata": {},
   "outputs": [
    {
     "name": "stderr",
     "output_type": "stream",
     "text": [
      "C:\\Users\\Carlos Olivo\\AppData\\Local\\Temp\\ipykernel_28516\\3258210838.py:6: UserWarning: The argument 'infer_datetime_format' is deprecated and will be removed in a future version. A strict version of it is now the default, see https://pandas.pydata.org/pdeps/0004-consistent-to-datetime-parsing.html. You can safely remove this argument.\n",
      "  raw_data['expiration_date'] = pd.to_datetime(raw_data['expiration_date'], infer_datetime_format=True)\n"
     ]
    }
   ],
   "source": [
    "\n",
    "\n",
    "# Transform data types of columns and parse expiration date\n",
    "raw_data['sanitary_registry'].astype('str')\n",
    "raw_data['product_name'].to_string(index=False)\n",
    "raw_data['manufacturer'].to_string(index=False)\n",
    "raw_data['pharmaceutical_form'].to_string(index=False)\n",
    "raw_data['expiration_date'] = pd.to_datetime(raw_data['expiration_date'], infer_datetime_format=True)\n",
    "\n",
    "# Create a regex to extract the year from the sanitary registry (str | int) like 2019-00000 or SUB2019-00000\n",
    "year_of_register_pattern = r'(\\b(?:19[5-9]\\d|20[0-4]\\d|2050)\\b|\\b(?:19[5-9]\\d|20[0-4]\\d|2050)(?:(?<=\\b)-\\d+))?\\b'\n",
    "\n",
    "raw_data['register_year'] = raw_data['sanitary_registry'].str.extract(year_of_register_pattern)\n",
    "raw_data.dropna(inplace=True)\n",
    "raw_data['register_year'] = raw_data['register_year'].astype('int64')\n",
    "\n",
    "\n",
    "# Durability of the product in years\n",
    "\n",
    "raw_data['durability'] =  raw_data['expiration_date'].dt.year - raw_data['register_year']\n",
    "\n",
    "# Drop unnecessary columns\n",
    "\n",
    "raw_data.drop(columns=['status','product_type','sanitary_registry'], inplace=True)\n",
    "\n",
    "\n"
   ]
  },
  {
   "cell_type": "code",
   "execution_count": 4,
   "metadata": {},
   "outputs": [],
   "source": [
    "\n",
    "def extract_singular(x):\n",
    "    if x.endswith('ES'):\n",
    "        return x[:-2]\n",
    "    elif x.endswith('S'):\n",
    "        return x[:-1]\n",
    "    else:\n",
    "        return x\n",
    "    \n",
    "# Normalize product names\n",
    "\n",
    "raw_data['product_name'] = raw_data['product_name'].str.lower()\n",
    "\n",
    "raw_data['product_name'] = raw_data['product_name'].str.replace('\"', '')\n",
    "\n",
    "\n",
    "# Normalize manufacturer names\n",
    "raw_data['manufacturer'] = raw_data['manufacturer'].str.split(',').str[0]\n",
    "raw_data['manufacturer'] = raw_data['manufacturer'].str.lower()\n",
    "raw_data['manufacturer'] = raw_data['manufacturer'].str.replace('\"', '')\n",
    "raw_data['manufacturer'] = raw_data['manufacturer'].str.normalize('NFKD').str.encode('ascii', errors='ignore').str.decode('utf-8')\n",
    "raw_data['manufacturer'] = raw_data['manufacturer'].str.strip()\n",
    "\n",
    "# Normalize pharmaceutical form\n",
    "\n",
    "raw_data['pharmaceutical_form'] = raw_data['pharmaceutical_form'].str.upper()\n",
    "raw_data['pharmaceutical_form'] = raw_data['pharmaceutical_form'].str.replace('\"', '')\n",
    "raw_data['pharmaceutical_form'] = raw_data['pharmaceutical_form'].str.normalize('NFKD').str.encode('ascii', errors='ignore').str.decode('utf-8')\n",
    "raw_data['pharmaceutical_form'] = raw_data['pharmaceutical_form'].str.strip()\n",
    "raw_data['pharmaceutical_form'] = raw_data['pharmaceutical_form'].str.split(' ').str[0]\n",
    "raw_data['pharmaceutical_form'] = raw_data['pharmaceutical_form'].str.split('/').str[0]\n",
    "raw_data['pharmaceutical_form'] = raw_data['pharmaceutical_form'].apply(extract_singular)\n",
    "\n",
    "# Save clean data to csv file\n",
    "raw_data.sort_values(by=['register_year'], inplace=True)\n",
    "raw_data.to_csv('../data/processed/sanitary_registry_medicines.csv', index=False)"
   ]
  }
 ],
 "metadata": {
  "kernelspec": {
   "display_name": "Python 3",
   "language": "python",
   "name": "python3"
  },
  "language_info": {
   "codemirror_mode": {
    "name": "ipython",
    "version": 3
   },
   "file_extension": ".py",
   "mimetype": "text/x-python",
   "name": "python",
   "nbconvert_exporter": "python",
   "pygments_lexer": "ipython3",
   "version": "3.11.4"
  }
 },
 "nbformat": 4,
 "nbformat_minor": 2
}
