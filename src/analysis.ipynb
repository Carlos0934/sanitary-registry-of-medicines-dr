{
 "cells": [
  {
   "cell_type": "code",
   "execution_count": 1,
   "metadata": {},
   "outputs": [
    {
     "name": "stdout",
     "output_type": "stream",
     "text": [
      "     product_name                                   manufacturer  \\\n",
      "0     cardilat 50           laboratorios de aplicaciones medicas   \n",
      "1  alicon complex                       laboratorios ameripharma   \n",
      "2         trental          sanofi-aventis de mexico s.a. de c.v.   \n",
      "3    tensolisin-d                             acromax dominicana   \n",
      "4        biovagin  gefarca industria  farmaceutica perezespinosa   \n",
      "\n",
      "  pharmaceutical_form expiration_date  register_year  \n",
      "0          COMPRIMIDO      2025-06-28           2000  \n",
      "1              JARABE      2025-11-08           2000  \n",
      "2            SOLUCION      2020-05-23           2000  \n",
      "3             TABLETA      2025-12-18           2000  \n",
      "4               CREMA      2025-12-18           2000  \n"
     ]
    }
   ],
   "source": [
    "import pandas as pd \n",
    "\n",
    "\n",
    "# Read processed data from csv files\n",
    "\n",
    "df = pd.read_csv('../data/processed/sanitary_registry_medicines.csv')\n",
    "print(df.head())\n",
    "def filter_outliers(frequencies: pd.Series, threshold: int = 1.5):\n",
    "    Q1 = frequencies.quantile(0.25)\n",
    "    Q3 = frequencies.quantile(0.75)\n",
    "\n",
    "    IQR = Q3 - Q1\n",
    "\n",
    "\n",
    "    # Filter the pharmaceutical forms that are outliers\n",
    "\n",
    " \n",
    "    return frequencies[((frequencies < (Q1 - threshold * IQR)) |(frequencies > (Q3 + threshold * IQR)))]"
   ]
  },
  {
   "cell_type": "code",
   "execution_count": 2,
   "metadata": {},
   "outputs": [
    {
     "name": "stdout",
     "output_type": "stream",
     "text": [
      "--------------------------------------------------\n",
      "count      12.000000\n",
      "mean     1099.083333\n",
      "std      1132.556678\n",
      "min        77.000000\n",
      "25%       328.000000\n",
      "50%       687.000000\n",
      "75%      1318.000000\n",
      "max      3520.000000\n",
      "Name: count, dtype: float64\n"
     ]
    }
   ],
   "source": [
    "# Obtain the relevant pharmaceutical forms in the sanitary registry \n",
    "\n",
    "frequencies = df['pharmaceutical_form'].value_counts()\n",
    "\n",
    "# Filter the pharmaceutical forms that are outliers\n",
    "pharmaceutical_forms = filter_outliers(frequencies,1.5)\n",
    "\n",
    "\n",
    "# Filter the dataframe to only contain the relevant pharmaceutical forms\n",
    "df = df[df['pharmaceutical_form'].isin(pharmaceutical_forms.index)]\n",
    "\n",
    "\n",
    "print('-'*50)\n",
    "print(pharmaceutical_forms.describe())\n"
   ]
  },
  {
   "cell_type": "code",
   "execution_count": 3,
   "metadata": {},
   "outputs": [],
   "source": [
    "# Obtain the relevant manufacturers in the sanitary registry\n",
    "frequencies = df['manufacturer'].value_counts()\n",
    "\n",
    "\n",
    "# Filter the manufacturers that are outliers\n",
    "\n",
    "manufacturers = filter_outliers(frequencies)\n",
    "\n",
    "\n",
    "# Filter the dataframe to only contain the relevant manufacturers\n",
    "\n",
    "df = df[df['manufacturer'].isin(manufacturers.index)]\n"
   ]
  },
  {
   "cell_type": "code",
   "execution_count": 4,
   "metadata": {},
   "outputs": [
    {
     "name": "stdout",
     "output_type": "stream",
     "text": [
      "--------------------------------------------------\n",
      "Sanitary Registry Statistics\n",
      "       register_year\n",
      "count    9621.000000\n",
      "mean     2012.128677\n",
      "std         5.116773\n",
      "min      2000.000000\n",
      "25%      2009.000000\n",
      "50%      2014.000000\n",
      "75%      2016.000000\n",
      "max      2019.000000\n",
      "--------------------------------------------------\n",
      "Pharmaceutical Forms\n",
      "count      12.000000\n",
      "mean     1099.083333\n",
      "std      1132.556678\n",
      "min        77.000000\n",
      "25%       328.000000\n",
      "50%       687.000000\n",
      "75%      1318.000000\n",
      "max      3520.000000\n",
      "Name: count, dtype: float64\n",
      "--------------------------------------------------\n",
      "Manufacturers\n",
      "count    248.000000\n",
      "mean      38.794355\n",
      "std       75.531116\n",
      "min        9.000000\n",
      "25%       11.000000\n",
      "50%       17.000000\n",
      "75%       28.000000\n",
      "max      570.000000\n",
      "Name: count, dtype: float64\n",
      "--------------------------------------------------\n"
     ]
    }
   ],
   "source": [
    "# Print the statistics of the dataframe\n",
    "\n",
    "print('-'*50)\n",
    "print('Sanitary Registry Statistics')\n",
    "print(df.describe())\n",
    "print('-'*50)\n",
    "print('Pharmaceutical Forms')\n",
    "print(pharmaceutical_forms.describe())\n",
    "print('-'*50)\n",
    "print('Manufacturers')\n",
    "print(manufacturers.describe())\n",
    "print('-'*50)\n",
    "\n",
    "\n",
    "# Save the processed data to a csv file\n",
    "\n",
    "df.to_csv('../data/final/sanitary_registry_medicines.csv', index=False)\n",
    "\n",
    "\n",
    "\n"
   ]
  }
 ],
 "metadata": {
  "kernelspec": {
   "display_name": "Python 3",
   "language": "python",
   "name": "python3"
  },
  "language_info": {
   "codemirror_mode": {
    "name": "ipython",
    "version": 3
   },
   "file_extension": ".py",
   "mimetype": "text/x-python",
   "name": "python",
   "nbconvert_exporter": "python",
   "pygments_lexer": "ipython3",
   "version": "3.11.4"
  }
 },
 "nbformat": 4,
 "nbformat_minor": 2
}
