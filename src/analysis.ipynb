{
 "cells": [
  {
   "cell_type": "code",
   "execution_count": 16,
   "metadata": {},
   "outputs": [
    {
     "data": {
      "text/html": [
       "<div>\n",
       "<style scoped>\n",
       "    .dataframe tbody tr th:only-of-type {\n",
       "        vertical-align: middle;\n",
       "    }\n",
       "\n",
       "    .dataframe tbody tr th {\n",
       "        vertical-align: top;\n",
       "    }\n",
       "\n",
       "    .dataframe thead th {\n",
       "        text-align: right;\n",
       "    }\n",
       "</style>\n",
       "<table border=\"1\" class=\"dataframe\">\n",
       "  <thead>\n",
       "    <tr style=\"text-align: right;\">\n",
       "      <th></th>\n",
       "      <th>product_name</th>\n",
       "      <th>manufacturer</th>\n",
       "      <th>pharmaceutical_form</th>\n",
       "      <th>expiration_date</th>\n",
       "      <th>register_year</th>\n",
       "      <th>durability</th>\n",
       "    </tr>\n",
       "  </thead>\n",
       "  <tbody>\n",
       "    <tr>\n",
       "      <th>0</th>\n",
       "      <td>cardilat 50</td>\n",
       "      <td>laboratorios de aplicaciones medicas</td>\n",
       "      <td>COMPRIMIDO</td>\n",
       "      <td>2025-06-28</td>\n",
       "      <td>2000</td>\n",
       "      <td>25</td>\n",
       "    </tr>\n",
       "    <tr>\n",
       "      <th>1</th>\n",
       "      <td>alicon complex</td>\n",
       "      <td>laboratorios ameripharma</td>\n",
       "      <td>JARABE</td>\n",
       "      <td>2025-11-08</td>\n",
       "      <td>2000</td>\n",
       "      <td>25</td>\n",
       "    </tr>\n",
       "    <tr>\n",
       "      <th>2</th>\n",
       "      <td>trental</td>\n",
       "      <td>sanofi-aventis de mexico s.a. de c.v.</td>\n",
       "      <td>SOLUCION</td>\n",
       "      <td>2020-05-23</td>\n",
       "      <td>2000</td>\n",
       "      <td>20</td>\n",
       "    </tr>\n",
       "    <tr>\n",
       "      <th>3</th>\n",
       "      <td>tensolisin-d</td>\n",
       "      <td>acromax dominicana</td>\n",
       "      <td>TABLETA</td>\n",
       "      <td>2025-12-18</td>\n",
       "      <td>2000</td>\n",
       "      <td>25</td>\n",
       "    </tr>\n",
       "    <tr>\n",
       "      <th>4</th>\n",
       "      <td>biovagin</td>\n",
       "      <td>gefarca industria  farmaceutica perezespinosa</td>\n",
       "      <td>CREMA</td>\n",
       "      <td>2025-12-18</td>\n",
       "      <td>2000</td>\n",
       "      <td>25</td>\n",
       "    </tr>\n",
       "  </tbody>\n",
       "</table>\n",
       "</div>"
      ],
      "text/plain": [
       "     product_name                                   manufacturer  \\\n",
       "0     cardilat 50           laboratorios de aplicaciones medicas   \n",
       "1  alicon complex                       laboratorios ameripharma   \n",
       "2         trental          sanofi-aventis de mexico s.a. de c.v.   \n",
       "3    tensolisin-d                             acromax dominicana   \n",
       "4        biovagin  gefarca industria  farmaceutica perezespinosa   \n",
       "\n",
       "  pharmaceutical_form expiration_date  register_year  durability  \n",
       "0          COMPRIMIDO      2025-06-28           2000          25  \n",
       "1              JARABE      2025-11-08           2000          25  \n",
       "2            SOLUCION      2020-05-23           2000          20  \n",
       "3             TABLETA      2025-12-18           2000          25  \n",
       "4               CREMA      2025-12-18           2000          25  "
      ]
     },
     "execution_count": 16,
     "metadata": {},
     "output_type": "execute_result"
    }
   ],
   "source": [
    "import pandas as pd \n",
    "from scipy.stats import chi2_contingency\n",
    "from dython.nominal import associations\n",
    "\n",
    "# Read processed data from csv files\n",
    "\n",
    "df = pd.read_csv('../data/processed/sanitary_registry_medicines.csv')\n",
    "\n",
    "def filter_outliers(frequencies: pd.Series, threshold: int = 1.5):\n",
    "    Q1 = frequencies.quantile(0.25)\n",
    "    Q3 = frequencies.quantile(0.75)\n",
    "\n",
    "    IQR = Q3 - Q1\n",
    "\n",
    "\n",
    "    # Filter the pharmaceutical forms that are outliers\n",
    "\n",
    " \n",
    "    return frequencies[((frequencies < (Q1 - threshold * IQR)) |(frequencies > (Q3 + threshold * IQR)))]\n",
    "\n",
    "df.head()\n"
   ]
  },
  {
   "cell_type": "code",
   "execution_count": 17,
   "metadata": {},
   "outputs": [
    {
     "name": "stdout",
     "output_type": "stream",
     "text": [
      "--------------------------------------------------\n",
      "count      12.000000\n",
      "mean     1099.083333\n",
      "std      1132.556678\n",
      "min        77.000000\n",
      "25%       328.000000\n",
      "50%       687.000000\n",
      "75%      1318.000000\n",
      "max      3520.000000\n",
      "Name: count, dtype: float64\n"
     ]
    }
   ],
   "source": [
    "# Obtain the relevant pharmaceutical forms in the sanitary registry \n",
    "\n",
    "frequencies = df['pharmaceutical_form'].value_counts()\n",
    "\n",
    "# Filter the pharmaceutical forms that are outliers\n",
    "pharmaceutical_forms = filter_outliers(frequencies,1.5)\n",
    "\n",
    "\n",
    "# Filter the dataframe to only contain the relevant pharmaceutical forms\n",
    "df = df[df['pharmaceutical_form'].isin(pharmaceutical_forms.index)]\n",
    "\n",
    "\n",
    "print('-'*50)\n",
    "print(pharmaceutical_forms.describe())\n"
   ]
  },
  {
   "cell_type": "code",
   "execution_count": 18,
   "metadata": {},
   "outputs": [],
   "source": [
    "# Obtain the relevant manufacturers in the sanitary registry\n",
    "frequencies = df['manufacturer'].value_counts()\n",
    "\n",
    "\n",
    "# Filter the manufacturers that are outliers\n",
    "\n",
    "manufacturers = filter_outliers(frequencies)\n",
    "\n",
    "\n",
    "# Filter the dataframe to only contain the relevant manufacturers\n",
    "\n",
    "df = df[df['manufacturer'].isin(manufacturers.index)]\n"
   ]
  },
  {
   "cell_type": "code",
   "execution_count": 19,
   "metadata": {},
   "outputs": [
    {
     "name": "stdout",
     "output_type": "stream",
     "text": [
      "--------------------------------------------------\n",
      "Sanitary Registry Statistics\n",
      "       register_year   durability\n",
      "count    9621.000000  9621.000000\n",
      "mean     2012.128677    12.838478\n",
      "std         5.116773     5.692638\n",
      "min      2000.000000   -80.000000\n",
      "25%      2009.000000    10.000000\n",
      "50%      2014.000000    10.000000\n",
      "75%      2016.000000    15.000000\n",
      "max      2019.000000    28.000000\n",
      "--------------------------------------------------\n",
      "Pharmaceutical Forms\n",
      "count      12.000000\n",
      "mean     1099.083333\n",
      "std      1132.556678\n",
      "min        77.000000\n",
      "25%       328.000000\n",
      "50%       687.000000\n",
      "75%      1318.000000\n",
      "max      3520.000000\n",
      "Name: count, dtype: float64\n",
      "--------------------------------------------------\n",
      "Manufacturers\n",
      "count    248.000000\n",
      "mean      38.794355\n",
      "std       75.531116\n",
      "min        9.000000\n",
      "25%       11.000000\n",
      "50%       17.000000\n",
      "75%       28.000000\n",
      "max      570.000000\n",
      "Name: count, dtype: float64\n",
      "--------------------------------------------------\n"
     ]
    }
   ],
   "source": [
    "# Print the statistics of the dataframe\n",
    "\n",
    "print('-'*50)\n",
    "print('Sanitary Registry Statistics')\n",
    "print(df.describe())\n",
    "print('-'*50)\n",
    "print('Pharmaceutical Forms')\n",
    "print(pharmaceutical_forms.describe())\n",
    "print('-'*50)\n",
    "print('Manufacturers')\n",
    "print(manufacturers.describe())\n",
    "print('-'*50)\n",
    "\n",
    "\n",
    "\n",
    "\n",
    "\n",
    "\n"
   ]
  },
  {
   "cell_type": "code",
   "execution_count": 20,
   "metadata": {},
   "outputs": [
    {
     "name": "stdout",
     "output_type": "stream",
     "text": [
      "Chi-square test for independence between manufacturer and pharmaceutical form\n",
      "Chi-square:  15797.53418162467\n",
      "p-value:  0.0\n",
      "Degrees of freedom:  2717\n"
     ]
    },
    {
     "name": "stderr",
     "output_type": "stream",
     "text": [
      "c:\\Users\\Carlos Olivo\\AppData\\Local\\Programs\\Python\\Python311\\Lib\\site-packages\\dython\\nominal.py:708: FutureWarning: Setting an item of incompatible dtype is deprecated and will raise in a future error of pandas. Value '' has dtype incompatible with float64, please explicitly cast to a compatible dtype first.\n",
      "  inf_nan.loc[columns[i], columns[j]] = _inf_nan_str(ij)\n",
      "c:\\Users\\Carlos Olivo\\AppData\\Local\\Programs\\Python\\Python311\\Lib\\site-packages\\dython\\nominal.py:709: FutureWarning: Setting an item of incompatible dtype is deprecated and will raise in a future error of pandas. Value '' has dtype incompatible with float64, please explicitly cast to a compatible dtype first.\n",
      "  inf_nan.loc[columns[j], columns[i]] = _inf_nan_str(ji)\n"
     ]
    },
    {
     "data": {
      "image/png": "[encoded data removed]",
      "text/plain": [
       "<Figure size 1000x1000 with 2 Axes>"
      ]
     },
     "metadata": {},
     "output_type": "display_data"
    }
   ],
   "source": [
    "# Association analysis between the pharmaceutical forms and the manufacturers and durability of the medicines\n",
    "\n",
    "df_main_features = df[['manufacturer', 'pharmaceutical_form', 'durability']]\n",
    "\n",
    "# Determine the relationship and correlation between variables using the Chi-square test for independence and the Cramer's V statistic\n",
    "\n",
    "\n",
    "# Chi-square test for independence\n",
    "\n",
    "# H0: There is no relationship between the variables\n",
    "\n",
    "# H1: There is a relationship between the variables\n",
    "\n",
    "# p-value < 0.05: reject H0\n",
    "\n",
    "# p-value > 0.05: fail to reject H0\n",
    "\n",
    "# p-value = 0.05: marginal\n",
    "\n",
    "# Chi-square test for independence between manufacturer and pharmaceutical form\n",
    "# Save the processed data to a csv file\n",
    "\n",
    "\n",
    "contingency_table = pd.crosstab(df_main_features['manufacturer'], df_main_features['pharmaceutical_form'])\n",
    "\n",
    "chi2, p, dof, expected = chi2_contingency(contingency_table.values)\n",
    "\n",
    "print('Chi-square test for independence between manufacturer and pharmaceutical form')\n",
    "\n",
    "print('Chi-square: ', chi2)\n",
    "\n",
    "print('p-value: ', p)\n",
    "\n",
    "print('Degrees of freedom: ', dof)\n",
    "\n",
    "# Correlations \n",
    "\n",
    "contingency_table = associations(df_main_features, nominal_columns=['manufacturer', 'pharmaceutical_form'], figsize=(10, 10), mark_columns=True, plot=True)"
   ]
  },
  {
   "cell_type": "code",
   "execution_count": 21,
   "metadata": {},
   "outputs": [],
   "source": [
    "# Save final data to a csv file\n",
    "\n",
    "df.to_csv('../data/final/sanitary_registry_medicines.csv', index=False)\n"
   ]
  }
 ],
 "metadata": {
  "kernelspec": {
   "display_name": "Python 3",
   "language": "python",
   "name": "python3"
  },
  "language_info": {
   "codemirror_mode": {
    "name": "ipython",
    "version": 3
   },
   "file_extension": ".py",
   "mimetype": "text/x-python",
   "name": "python",
   "nbconvert_exporter": "python",
   "pygments_lexer": "ipython3",
   "version": "3.11.4"
  }
 },
 "nbformat": 4,
 "nbformat_minor": 2
}
